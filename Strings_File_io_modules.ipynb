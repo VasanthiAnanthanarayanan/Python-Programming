{
 "cells": [
  {
   "cell_type": "code",
   "execution_count": 1,
   "metadata": {},
   "outputs": [
    {
     "name": "stdout",
     "output_type": "stream",
     "text": [
      "Enter the value for x: 4\n",
      "Enter the value for y: 5\n",
      "The sum of x & y is:  9\n",
      "Enter string input: Python\n",
      "The length of the string is:  6\n"
     ]
    }
   ],
   "source": [
    "#Question1\n",
    "import arithmetic #importing the module\n",
    "\n",
    "#Part1 - Add function\n",
    "x = int(input(\"Enter the value for x: \")) #Getting the value of first number to perform ADD\n",
    "y = int(input(\"Enter the value for y: \")) #Getting the value of second number to perform ADD\n",
    "answer1 = arithmetic.add(x,y) #Calling add function present in arithmetic module to get an answer\n",
    "print(\"The sum of x & y is: \", answer1) #Print Final addition ouput\n",
    "\n",
    "#Part2 - get length function\n",
    "str1 = input(\"Enter string input: \") #Getting the value of string\n",
    "answer2 = arithmetic.get_length(str1) #Calling get_length function present in arithmetic module to get an answer\n",
    "print(\"The length of the string is: \",answer2)"
   ]
  },
  {
   "cell_type": "code",
   "execution_count": 2,
   "metadata": {},
   "outputs": [
    {
     "name": "stdout",
     "output_type": "stream",
     "text": [
      "dict_items([('top', 4), ('individual', 2), ('products', 4), ('rank', 4), ('id', 4), ('freq', 4), ('co', 2), ('purchased', 2), ('hi', 1), ('my', 2), ('name', 1), ('is', 1), ('vasanthi', 1), ('i', 3), ('m', 1), ('a', 1), ('masters', 1), ('student', 1), ('love', 1), ('python', 2), ('for', 1), ('data', 1), ('science', 1), ('class', 1), ('am', 1), ('doing', 1), ('assignment', 1)])\n"
     ]
    }
   ],
   "source": [
    "#Question2\n",
    "#importing libraries\n",
    "import os\n",
    "import re\n",
    "\n",
    "#Changing working directory\n",
    "os.chdir(r\"C:\\Users\\vasan\\OneDrive\\Desktop\\MIS Coursework\\Python with Data Science\\Assignment_4\")\n",
    "w_Freq = {} #initializing an empty dictionary\n",
    "\n",
    "#loop to open & read all txt files present in the desired directory\n",
    "for count in os.listdir(r\"C:\\Users\\vasan\\OneDrive\\Desktop\\MIS Coursework\\Python with Data Science\\Assignment_4\"):\n",
    "     if count.endswith(\".txt\"):\n",
    "        file = open(count,'r')\n",
    "\n",
    "#Reading the .txt files and converting everything to lower\n",
    "        input_string = file.read() \n",
    "        input_string = input_string.lower()\n",
    "\n",
    "#Searching all words containing [a-z]/[A-z] values as string\n",
    "        match = re.findall(r'\\b[a-zA-Z]{1,15}\\b', input_string)\n",
    "#Checking if the key is already present or not and updating dictionary values accordingly\n",
    "        for word in match:\n",
    "            count = w_Freq.get(word,0)\n",
    "            w_Freq[word] = count + 1  \n",
    "\n",
    "\n",
    "print(w_Freq.items()) #Displaying all the unique words present in all the files of the directory with their frequency"
   ]
  },
  {
   "cell_type": "code",
   "execution_count": 3,
   "metadata": {},
   "outputs": [
    {
     "name": "stdout",
     "output_type": "stream",
     "text": [
      "Top 10 Individual Products \n",
      "Rank\tID\tFreq\n",
      "1\t22\t39\n",
      "2\t28\t36\n",
      "3\t8\t35\n",
      "4\t17\t35\n",
      "5\t10\t35\n",
      "6\t3\t35\n",
      "7\t19\t34\n",
      "8\t18\t34\n",
      "9\t9\t33\n",
      "10\t16\t33\n",
      "Top 10 Co-Purchased Products \n",
      "Rank\tID\tFreq\n",
      "1\t3-10\t5\n",
      "2\t17-22\t4\n",
      "3\t8-16\t4\n",
      "4\t28-30\t4\n",
      "5\t11-17\t4\n",
      "6\t16-17\t4\n",
      "7\t17-26\t4\n",
      "8\t4-11\t4\n",
      "9\t3-8\t3\n",
      "10\t4-22\t3\n"
     ]
    }
   ],
   "source": [
    "import csv\n",
    "import os\n",
    "import operator\n",
    "os.chdir(r\"C:\\Users\\vasan\\OneDrive\\Desktop\\MIS Coursework\\Python with Data Science\\Assignment_4\")\n",
    "a =[]\n",
    "sample = open('retail.csv','r') #Creating keys in the dictionary\n",
    "\n",
    "file = open(\"Output.txt\", \"w\") #Checking if the Prod_id already exists in the dictionary & updating the frequency accordingly\n",
    "\n",
    "csv1 = csv.reader(sample,delimiter=',')\n",
    "Item_Freq={}\n",
    "Group_Freq={}\n",
    "\n",
    "for row in csv1:\n",
    "    try:\n",
    "        Item_Freq[row[1]]+=1 #Creating keys in the dictionary\n",
    "    except:\n",
    "        Item_Freq[row[1]]=1\n",
    "    if (int(row[2]) != 0): #Checking if the Prod_id already exists in the dictionary & updating the frequency accordingly\n",
    "        try:\n",
    "            Item_Freq[row[2]]+=1\n",
    "        except:\n",
    "            Item_Freq[row[2]]=1\n",
    "        arr = row[1:]\n",
    "        arr.sort(key=int) #Checking for duplicates & updating the frequency accordingly\n",
    "        s = \"-\"\n",
    "        key = s.join(arr)\n",
    "        try:\n",
    "            Group_Freq[key]+=1\n",
    "        except:\n",
    "            Group_Freq[key]=1\n",
    "print('Top 10 Individual Products ') #Printing top 10 individual selling products\n",
    "d = sorted(Item_Freq, key=Item_Freq.get,reverse = True)[0:10] #Sorting Single product in descending order and dsplaying top 10\n",
    "print('Rank','ID','Freq',sep=\"\\t\")\n",
    "for index,key in enumerate(d): \n",
    "    print(index+1,key,Item_Freq[key],sep=\"\\t\") #Printing top 10 single products in dictionary iterating through the loop\n",
    "print('Top 10 Co-Purchased Products ') #Printing top 10 single products in dictionary \n",
    "d = sorted(Group_Freq, key=Group_Freq.get,reverse = True)[0:10] #Sorting Co-purchased product in descending order and dsplaying top 10\n",
    "print('Rank','ID','Freq',sep=\"\\t\")\n",
    "for index,key in enumerate(d):\n",
    "    print(index+1,key,Group_Freq[key], sep=\"\\t\") #Printing top 10 single products in dictionary iterating through the loop\n",
    "\n",
    "#Following the same steps as above to write the output to the Output.txt file\n",
    "file.write('Top 10 Individual Products\\n')\n",
    "d = sorted(Item_Freq, key=Item_Freq.get,reverse = True)[0:10]\n",
    "file.write('\\t'.join(['Rank','ID','Freq','\\n']))\n",
    "for index,key in enumerate(d):\n",
    "    file.write('\\t'.join([str(index+1),key,str(Item_Freq[key]),'\\n']))  \n",
    "file.write('\\nTop 10 Co-Purchased Products\\n')\n",
    "d = sorted(Group_Freq, key=Group_Freq.get,reverse = True)[0:10]\n",
    "file.write('\\t'.join(['Rank','ID','Freq','\\n']))\n",
    "for index,key in enumerate(d):\n",
    "    file.write('\\t'.join([str(index+1),key,str(Group_Freq[key]),'\\n']))  \n",
    "file.close() #Closing the file"
   ]
  }
 ],
 "metadata": {
  "kernelspec": {
   "display_name": "Python 3",
   "language": "python",
   "name": "python3"
  },
  "language_info": {
   "codemirror_mode": {
    "name": "ipython",
    "version": 3
   },
   "file_extension": ".py",
   "mimetype": "text/x-python",
   "name": "python",
   "nbconvert_exporter": "python",
   "pygments_lexer": "ipython3",
   "version": "3.7.6"
  }
 },
 "nbformat": 4,
 "nbformat_minor": 4
}
