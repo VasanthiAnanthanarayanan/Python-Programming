{
 "cells": [
  {
   "cell_type": "code",
   "execution_count": 1,
   "metadata": {},
   "outputs": [
    {
     "name": "stdout",
     "output_type": "stream",
     "text": [
      "*\n",
      "**\n",
      "***\n"
     ]
    }
   ],
   "source": [
    "#Question1\n",
    "print('*')\n",
    "print('**')\n",
    "print('***')"
   ]
  },
  {
   "cell_type": "code",
   "execution_count": 2,
   "metadata": {},
   "outputs": [
    {
     "name": "stdout",
     "output_type": "stream",
     "text": [
      "first root is 23.0\n",
      "second root is 17.0\n"
     ]
    }
   ],
   "source": [
    "#Question2\n",
    "import math \n",
    "a=1;\n",
    "b=-40;\n",
    "c=391;\n",
    "x1 = (-b+math.sqrt((b*b)-(4*a*c)))/(2*a)\n",
    "x2 = (-b-math.sqrt((b*b)-(4*a*c)))/(2*a)\n",
    "print('first root is',x1)\n",
    "print('second root is',x2)"
   ]
  },
  {
   "cell_type": "code",
   "execution_count": 8,
   "metadata": {},
   "outputs": [
    {
     "name": "stdout",
     "output_type": "stream",
     "text": [
      "Enter X15\n",
      "Enter Y10\n",
      "(X+Y)/(X-Y) =  5.0\n",
      "(X-Y)^3 =  125\n",
      "Last digit of (X+Y) =  5\n"
     ]
    }
   ],
   "source": [
    "#Question3\n",
    "X = input('Enter X')\n",
    "Y = input('Enter Y')\n",
    "X = int(X)\n",
    "Y = int(Y)\n",
    "Answer1 = (X+Y)/(X-Y)\n",
    "Answer2 = (X-Y)**3\n",
    "Answer3 = (X+Y)%10\n",
    "print('(X+Y)/(X-Y) = ', Answer1)\n",
    "print('(X-Y)^3 = ', Answer2)\n",
    "print('Last digit of (X+Y) = ', Answer3)"
   ]
  },
  {
   "cell_type": "code",
   "execution_count": 12,
   "metadata": {},
   "outputs": [
    {
     "name": "stdout",
     "output_type": "stream",
     "text": [
      "Player 1: scissor\n",
      "Player 2: paper\n",
      "Player 1 wins\n"
     ]
    }
   ],
   "source": [
    "#Question_4\n",
    "x = input('Player 1: ')\n",
    "y = input('Player 2: ')\n",
    "\n",
    "if x == \"rock\" and y == \"paper\":\n",
    "    print('Player 2 wins')\n",
    "elif x == \"rock\" and y == \"scissor\":\n",
    "    print('Player 1  wins')\n",
    "elif x == \"paper\" and y == \"rock\":\n",
    "    print('Player 1 wins')\n",
    "elif x == \"scissor\" and y == \"rock\":\n",
    "    print('Player 2 wins')\n",
    "elif x == \"paper\" and y == \"scissor\":\n",
    "    print('Player 2 wins')\n",
    "elif x == \"scissor\" and y == \"paper\":\n",
    "    print('Player 1 wins')\n",
    "else:\n",
    "    print ('invalid value')"
   ]
  },
  {
   "cell_type": "code",
   "execution_count": 18,
   "metadata": {},
   "outputs": [
    {
     "name": "stdout",
     "output_type": "stream",
     "text": [
      "Please enter the temperature:60\n",
      "Is this Celsius or Fahrenheit? C\n",
      "60.0 C is 140.0  in Farenheit\n"
     ]
    }
   ],
   "source": [
    "#Question5\n",
    "input1 = input('Please enter the temperature:')\n",
    "input1 = float(input1)\n",
    "input2 = input('Is this Celsius or Fahrenheit? ')\n",
    "if input2==\"C\":\n",
    "    F = (1.8*input1)+32\n",
    "    print(input1,'C is',F,' in Farenheit')\n",
    "elif input2 == \"F\":\n",
    "    C = (5/9)*(input1-32)\n",
    "    print(input1,'F is',C,' in Celcius')\n",
    "else:\n",
    "    print(\"invalid value\")"
   ]
  }
 ],
 "metadata": {
  "kernelspec": {
   "display_name": "Python 3",
   "language": "python",
   "name": "python3"
  },
  "language_info": {
   "codemirror_mode": {
    "name": "ipython",
    "version": 3
   },
   "file_extension": ".py",
   "mimetype": "text/x-python",
   "name": "python",
   "nbconvert_exporter": "python",
   "pygments_lexer": "ipython3",
   "version": "3.7.6"
  }
 },
 "nbformat": 4,
 "nbformat_minor": 4
}
